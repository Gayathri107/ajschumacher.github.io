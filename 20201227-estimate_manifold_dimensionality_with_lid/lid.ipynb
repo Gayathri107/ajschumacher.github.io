{
 "cells": [
  {
   "cell_type": "code",
   "execution_count": 1,
   "metadata": {},
   "outputs": [],
   "source": [
    "# This code emphasizes simplicity and brevity over robustness.\n",
    "# Core commentary is in the write-up rather than this notebook.\n",
    "# This is mostly didactic, not a production-ready LID library."
   ]
  },
  {
   "cell_type": "code",
   "execution_count": 2,
   "metadata": {},
   "outputs": [],
   "source": [
    "import math\n",
    "\n",
    "def lid(radius, radius_bound):\n",
    "    return 1 / math.log(radius_bound / radius)"
   ]
  },
  {
   "cell_type": "code",
   "execution_count": 3,
   "metadata": {},
   "outputs": [],
   "source": [
    "# In one dimension,\n",
    "# the expected radius for a radius_bound of one is 0.5,\n",
    "# but that doesn't imply the converse:\n",
    "# a measured radius of 0.5 withing a radius_bound of one\n",
    "# doesn't imply the most likely dimensionality is one.\n",
    "# There may be an interesting explanation of this.\n",
    "assert lid(1/math.e, 1) == 1"
   ]
  },
  {
   "cell_type": "code",
   "execution_count": 4,
   "metadata": {},
   "outputs": [],
   "source": [
    "def euclidean(xs, ys):  # Euclidean distance\n",
    "    return math.sqrt(sum((x - y)**2 for x, y in zip(xs, ys)))"
   ]
  },
  {
   "cell_type": "code",
   "execution_count": 5,
   "metadata": {},
   "outputs": [],
   "source": [
    "assert euclidean([3, 0], [0, 4]) == 5\n",
    "# The behavior of zip means unexpected behavior can occur\n",
    "# if len(xs) != len(ys). That's the kind of thing this code doesn't check."
   ]
  },
  {
   "cell_type": "code",
   "execution_count": 6,
   "metadata": {},
   "outputs": [],
   "source": [
    "def harmonic_mean(numbers):\n",
    "    return len(numbers) / sum(1 / number for number in numbers)"
   ]
  },
  {
   "cell_type": "code",
   "execution_count": 7,
   "metadata": {},
   "outputs": [],
   "source": [
    "assert harmonic_mean([3]) == 3\n",
    "assert harmonic_mean([1, 4, 4]) == 2"
   ]
  },
  {
   "cell_type": "code",
   "execution_count": 8,
   "metadata": {},
   "outputs": [],
   "source": [
    "def positive(numbers):\n",
    "    return [number for number in numbers if number > 0]"
   ]
  },
  {
   "cell_type": "code",
   "execution_count": 9,
   "metadata": {},
   "outputs": [],
   "source": [
    "assert positive([0, 1, 2, 3]) == [1, 2, 3]"
   ]
  },
  {
   "cell_type": "code",
   "execution_count": 10,
   "metadata": {},
   "outputs": [],
   "source": [
    "def neighbors_lid(origin, points, k=1, distance=euclidean):\n",
    "    radii = sorted(positive([distance(origin, point) for point in points]))\n",
    "    return harmonic_mean([lid(radius, radii[k]) for radius in radii[:k]])"
   ]
  },
  {
   "cell_type": "code",
   "execution_count": 11,
   "metadata": {},
   "outputs": [],
   "source": [
    "# neighbors_lid doesn't ensure that radii[k]\n",
    "# is strictly greater than all radii[:k],\n",
    "# which is needed for reasonable behavior.\n",
    "\n",
    "# When using floats (as in the iris dataset)\n",
    "# equal distances can give small differences\n",
    "# as in: 0.8 - 0.7 > 0.7 - 0.6  # True\n",
    "# which gives incorrectly huge LID."
   ]
  },
  {
   "cell_type": "code",
   "execution_count": 12,
   "metadata": {},
   "outputs": [],
   "source": [
    "import random\n",
    "\n",
    "def cloud(dimensions, count=100, bounds=(-1, 1)):\n",
    "    return [[random.uniform(*bounds) for _ in range(dimensions)]\n",
    "            for _ in range(count)]"
   ]
  },
  {
   "cell_type": "code",
   "execution_count": 13,
   "metadata": {},
   "outputs": [
    {
     "data": {
      "text/plain": [
       "6.851551579378687"
      ]
     },
     "execution_count": 13,
     "metadata": {},
     "output_type": "execute_result"
    }
   ],
   "source": [
    "random.seed(80)\n",
    "\n",
    "neighbors_lid([0]*7, cloud(7))"
   ]
  },
  {
   "cell_type": "code",
   "execution_count": 14,
   "metadata": {
    "scrolled": true
   },
   "outputs": [
    {
     "data": {
      "text/plain": [
       "7.006859728132216"
      ]
     },
     "execution_count": 14,
     "metadata": {},
     "output_type": "execute_result"
    }
   ],
   "source": [
    "random.seed(12)\n",
    "\n",
    "harmonic_mean([neighbors_lid([0]*7, cloud(7)) for _ in range(1000)])"
   ]
  },
  {
   "cell_type": "code",
   "execution_count": 15,
   "metadata": {},
   "outputs": [],
   "source": [
    "def data_lid(points, k=1, distance=euclidean):\n",
    "    return harmonic_mean([neighbors_lid(point, points, k=k, distance=distance)\n",
    "                          for point in points])"
   ]
  },
  {
   "cell_type": "code",
   "execution_count": 16,
   "metadata": {},
   "outputs": [],
   "source": [
    "# data_lid averages dimensionality over a whole dataset,\n",
    "# but it could be that parts of a dataset have different dimensionalities.\n",
    "# It might make sense to break up a dataset,\n",
    "# or do a local weighted average to see\n",
    "# how dimensionality varies across a UMAP visualization, for instance."
   ]
  },
  {
   "cell_type": "code",
   "execution_count": 17,
   "metadata": {},
   "outputs": [],
   "source": [
    "import sklearn.datasets\n",
    "\n",
    "roll, _ = sklearn.datasets.make_swiss_roll(random_state=9)"
   ]
  },
  {
   "cell_type": "code",
   "execution_count": 18,
   "metadata": {},
   "outputs": [
    {
     "data": {
      "text/plain": [
       "2.0706005383894444"
      ]
     },
     "execution_count": 18,
     "metadata": {},
     "output_type": "execute_result"
    }
   ],
   "source": [
    "data_lid(roll)"
   ]
  }
 ],
 "metadata": {
  "kernelspec": {
   "display_name": "Python 3",
   "language": "python",
   "name": "python3"
  },
  "language_info": {
   "codemirror_mode": {
    "name": "ipython",
    "version": 3
   },
   "file_extension": ".py",
   "mimetype": "text/x-python",
   "name": "python",
   "nbconvert_exporter": "python",
   "pygments_lexer": "ipython3",
   "version": "3.7.4"
  }
 },
 "nbformat": 4,
 "nbformat_minor": 2
}
